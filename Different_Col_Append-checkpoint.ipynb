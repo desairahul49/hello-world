{
 "cells": [
  {
   "cell_type": "code",
   "execution_count": 1,
   "metadata": {},
   "outputs": [],
   "source": [
    "import pandas as pd\n",
    "import pyodbc\n",
    "from sqlalchemy import create_engine\n",
    "import urllib\n",
    "server = \"UAT01\"\n",
    "db = \"TEST\"\n",
    "params = urllib.parse.quote_plus('DRIVER={SQL Server};SERVER=' + server + ';DATABASE=' + db +';Uid=uat01_read;Pwd=password@123')\n",
    "conn_str = 'mssql+pyodbc:///?odbc_connect={}'.format(params)\n",
    "con = create_engine(conn_str, fast_executemany=True)\n",
    "max_week = pd.read_sql(\"select max(FWEEK) from SOE_DC_ML_8K.dbo.RAWDATA_DC_CONSOLIDATED\", con).astype('int')\n",
    "max_week = max_week.iloc[0].astype('str')\n",
    "min_week = pd.read_sql(\"select min(FWEEK) from SOE_DC_ML_8K.dbo.RAWDATA_DC_CONSOLIDATED where FWEEK in (select distinct top 2 FWEEK from SOE_DC_ML_8K.dbo.RAWDATA_DC_CONSOLIDATED order by FWEEK desc)\", con).astype('int')\n",
    "min_week = min_week.iloc[0].astype('str')\n",
    "week = max_week[0][4:]"
   ]
  },
  {
   "cell_type": "code",
   "execution_count": 2,
   "metadata": {},
   "outputs": [],
   "source": [
    "query = \"Select [FWEEK],[DPS_NUM],[COMMODITYDESC],[SYSTEM_ORIGINAL_SUBREGION],[PRODUCT_DESC],[Issue_final],[Diag_Tool_final],[diag_stats_final],[error_code_final]from SOE_DC_ML_8K.[dbo].[RAWDATA_DC_CONSOLIDATED]\\\n",
    "        where ([fweek] = '{}' or ([fweek] = '{}' and [NEW_DPS_FLG] = '1'))\".format(max_week.iloc[0],min_week.iloc[0])"
   ]
  },
  {
   "cell_type": "code",
   "execution_count": 3,
   "metadata": {},
   "outputs": [],
   "source": [
    "China = pd.read_csv('S:\\work\\Automation\\ML\\Procressed data\\FY20\\FW'+week+'\\Output\\output_ts_2020'+week+'_CHT.txt',delimiter=';')\n",
    "English = pd.read_csv('S:\\work\\Automation\\ML\\Procressed data\\FY20\\FW'+week+'\\Output\\output_ts_2020'+week+'_English_EU.txt',delimiter=';')\n",
    "English.drop(columns=['PRODUCT_DESC'],inplace=True)\n",
    "Japan = pd.read_csv('S:\\work\\Automation\\ML\\Procressed data\\FY20\\FW'+week+'\\Output\\output_ts_2020'+week+'_Japan.txt',delimiter=';')\n",
    "Korea = pd.read_csv('S:\\work\\Automation\\ML\\Procressed data\\FY20\\FW'+week+'\\Output\\output_ts_2020'+week+'_Korea.txt',delimiter=';')\n",
    "df = pd.read_sql(query, con)\n",
    "#Input = pd.read_excel('S:\\work\\Automation\\ML\\Procressed data\\FY19\\FW30\\Input\\Input_FW201930-29.xlsx')\n",
    "df['COMMODITYDESC'] = df['COMMODITYDESC'].str.lower()"
   ]
  },
  {
   "cell_type": "code",
   "execution_count": 4,
   "metadata": {},
   "outputs": [],
   "source": [
    "China.rename(columns = {'remove i/o cable':'remove io cable',\n",
    "                        'remove i/o cable_PROBABILITY':'remove io cable_PROBABILITY',\n",
    "                        'check bios version update bios if not current':'Updated/ Latest BIOS',\n",
    "                        'check bios version update bios if not current_PROBABILITY':'Updated/ Latest BIOS_PROBABILITY'},\n",
    "                        inplace = True)\n",
    "\n",
    "English.rename(columns = {'change bios setting':'change bios settings',\n",
    "                        'change bios setting_PROBABILITY':'change bios settings_PROBABILITY',\n",
    "                        'check bios version update bios if not current':'Updated/ Latest BIOS',\n",
    "                        'check bios version update bios if not current_PROBABILITY':'Updated/ Latest BIOS_PROBABILITY',\n",
    "                        'clean the vent (check for dust/debris clean if exist)_PROBABILITY':'clean the vent (check for dust/debris clean if exist)_PROBABIL'},\n",
    "                        inplace = True)\n",
    "\n",
    "Japan.rename(columns = {'check bios version update bios if not current':'Updated/ Latest BIOS',\n",
    "                        'check bios version update bios if not current_PROBABILITY':'Updated/ Latest BIOS_PROBABILITY'},\n",
    "                        inplace = True)\n",
    "\n",
    "Korea.rename(columns = {'check bios version update bios if not current':'Updated/ Latest BIOS',\n",
    "                        'check bios version update bios if not current_PROBABILITY':'Updated/ Latest BIOS_PROBABILITY',\n",
    "                        'remove/reset/verify with known good processor':'remove/reseat/verify with known good processor',\n",
    "                        'remove/reset/verify with known good processor_PROBABILITY':'remove/reseat/verify with known good processor_PROBABILITY',\n",
    "                        'clear nvram/ jumper reseat':'clear nvram / reseat jumper',\n",
    "                        'clear nvram/ jumper reseat_PROBABILITY':'clear nvram / reseat jumper_PROBABILITY'},\n",
    "                        inplace = True)"
   ]
  },
  {
   "cell_type": "code",
   "execution_count": 5,
   "metadata": {},
   "outputs": [],
   "source": [
    "ML_Output_With_Scores_Consolidated =  pd.concat([English,China,Japan,Korea],ignore_index=True, sort=False,)\n",
    "ML_Output_With_Scores_Consolidated.fillna(value=0,inplace=True)\n",
    "df['DPS_NUM'] = df['DPS_NUM'].astype('int64')\n",
    "df['FWEEK'] = df['FWEEK'].astype('int64')\n",
    "ML_Output_With_Scores_Consolidated = ML_Output_With_Scores_Consolidated.merge(df.iloc[:,:5])\n",
    "ML_Output_With_Scores_Consolidated.iloc[:,5:61] = ML_Output_With_Scores_Consolidated.iloc[:,5:61].astype('int64')\n",
    "ML_Output_With_Scores_Consolidated['DPS_NUM'] = ML_Output_With_Scores_Consolidated['DPS_NUM'].astype('str') \n",
    "ML_Output_With_Scores_Consolidated.rename(columns={'remove/reseat/verify with known good hdd and / or hdd cables_PROBABILITY':\n",
    "                                                  'remove/reseat/verify with known good hdd and / or hdd cables_PRO'},inplace=True)\n",
    "ML_Output_With_Scores_Consolidated.rename(columns={'lcd movement test reproduce an possible lvds cable issue_PROBABILITY':\n",
    "                                                   'lcd movement test reproduce an possible lvds cable issue_PROBABI'},inplace=True)\n"
   ]
  },
  {
   "cell_type": "code",
   "execution_count": 6,
   "metadata": {},
   "outputs": [
    {
     "data": {
      "text/plain": [
       "66540"
      ]
     },
     "execution_count": 6,
     "metadata": {},
     "output_type": "execute_result"
    }
   ],
   "source": [
    "ML_Output_With_Scores_Consolidated['DPS_NUM'].count()"
   ]
  },
  {
   "cell_type": "code",
   "execution_count": null,
   "metadata": {},
   "outputs": [],
   "source": [
    "excel = pd.ExcelWriter('S:\\work\\Automation\\ML\\Procressed data\\FY20\\FW'+week+'\\Output\\ML_Output_With_Scores_Consolidated.xlsx')\n",
    "ML_Output_With_Scores_Consolidated.to_excel(excel, index=False)\n",
    "excel.save()"
   ]
  },
  {
   "cell_type": "code",
   "execution_count": 7,
   "metadata": {},
   "outputs": [],
   "source": [
    "ML_Output_With_Scores_Consolidated.to_sql(name='CCA_TS_Automated_Output_Consolidate_test',con=con,if_exists='append',\n",
    "                                         index=False,chunksize=5000)"
   ]
  },
  {
   "cell_type": "code",
   "execution_count": null,
   "metadata": {},
   "outputs": [],
   "source": []
  },
  {
   "cell_type": "code",
   "execution_count": null,
   "metadata": {},
   "outputs": [],
   "source": []
  },
  {
   "cell_type": "code",
   "execution_count": null,
   "metadata": {},
   "outputs": [],
   "source": []
  },
  {
   "cell_type": "code",
   "execution_count": null,
   "metadata": {},
   "outputs": [],
   "source": []
  },
  {
   "cell_type": "code",
   "execution_count": null,
   "metadata": {},
   "outputs": [],
   "source": []
  },
  {
   "cell_type": "code",
   "execution_count": null,
   "metadata": {},
   "outputs": [],
   "source": []
  },
  {
   "cell_type": "code",
   "execution_count": null,
   "metadata": {},
   "outputs": [],
   "source": []
  },
  {
   "cell_type": "code",
   "execution_count": null,
   "metadata": {},
   "outputs": [],
   "source": []
  },
  {
   "cell_type": "code",
   "execution_count": null,
   "metadata": {},
   "outputs": [],
   "source": []
  },
  {
   "cell_type": "code",
   "execution_count": null,
   "metadata": {},
   "outputs": [],
   "source": []
  }
 ],
 "metadata": {
  "kernelspec": {
   "display_name": "Python 3",
   "language": "python",
   "name": "python3"
  },
  "language_info": {
   "codemirror_mode": {
    "name": "ipython",
    "version": 3
   },
   "file_extension": ".py",
   "mimetype": "text/x-python",
   "name": "python",
   "nbconvert_exporter": "python",
   "pygments_lexer": "ipython3",
   "version": "3.6.8"
  }
 },
 "nbformat": 4,
 "nbformat_minor": 2
}
