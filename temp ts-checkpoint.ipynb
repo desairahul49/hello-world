{
 "cells": [
  {
   "cell_type": "code",
   "execution_count": 1,
   "metadata": {},
   "outputs": [],
   "source": [
    "import pandas as pd\n",
    "from nltk.corpus import stopwords\n",
    "import string\n",
    "from langdetect import detect\n",
    "stpword = stopwords.words('english') \n",
    "whitelist = ['not','no','up','to','in','same',\"couldn't\",'other']\n",
    "stpword = list(set(stpword).difference(set(whitelist)))\n",
    "punct =dict.fromkeys(string.punctuation,' ')\n",
    "no_punct = str.maketrans(punct)\n",
    "import re\n",
    "raw_data = pd.read_excel('S:\\\\work\\\\Automation\\\\codes\\\\Input_File.xlsx',)\n",
    "#idx_lang = data[data['Merged_Notes'] != ''].index\n",
    "#data['lang'] = data['Merged_Notes'].loc[idx_lang].apply(detect)\n",
    "raw_data.drop_duplicates(subset=['DPS_NUM','COMMODITYDESC'],inplace = True)"
   ]
  },
  {
   "cell_type": "code",
   "execution_count": 2,
   "metadata": {},
   "outputs": [],
   "source": [
    "#common data cleanup\n",
    "data = raw_data\n",
    "data.set_index('DPS_NUM',inplace = True)\n",
    "data['Notes_cleaned'] = data['Notes']\n",
    "data['Solution_Steps_cleaned'] = data['Solution_steps']\n",
    "data['Notes_cleaned'].fillna('',inplace = True)\n",
    "data['Solution_Steps_cleaned'].fillna('',inplace = True)\n",
    "data['Notes_cleaned'] = data['Notes_cleaned'].str.lower()\n",
    "data['Solution_Steps_cleaned'] = data['Solution_Steps_cleaned'].str.lower()\n",
    "data['Notes_cleaned'] = data['Notes_cleaned'].apply(lambda x: [item for item in str(x).split() if item not in stpword])\n",
    "data['Solution_Steps_cleaned'] = data['Solution_Steps_cleaned'].apply(lambda x: [item for item in str(x).split() if item not in stpword])\n",
    "data['Solution_Steps_cleaned'] = data['Solution_Steps_cleaned'].apply(','.join)\n",
    "data['Notes_cleaned'] = data['Notes_cleaned'].apply(','.join)\n",
    "data['Solution_Steps_cleaned'] = data['Solution_Steps_cleaned'].str.replace(r'(\\bns:).+', '')\n",
    "data['Notes_cleaned'] = data['Notes_cleaned'].str.replace(r'(\\bns:).+', '')\n",
    "data['Solution_Steps_cleaned'] = data['Solution_Steps_cleaned'].str.translate(no_punct)\n",
    "data['Notes_cleaned'] = data['Notes_cleaned'].str.translate(no_punct)\n",
    "data['Solution_Steps_cleaned'] = data['Solution_Steps_cleaned'].str.replace(r'\\s{2,}', ' ',).str.strip()\n",
    "data['Notes_cleaned'] = data['Notes_cleaned'].str.replace(r'\\s{2,}', ' ',).str.strip()\n",
    "data['Solution_Steps_cleaned'] = data['Solution_Steps_cleaned'].str.replace(r'(((suggested)?\\s?(next\\s?(step(s)?)\\s?))).+', '')\n",
    "data['Solution_Steps_cleaned'] = data['Solution_Steps_cleaned'].str.replace(r'(((inst|instruction(s)?|comment(s)?)\\s?(to)?\\s?dsp)).+', '')\n",
    "data['Solution_Steps_cleaned'] = data['Solution_Steps_cleaned'].str.replace(r'(dsp\\s?(to)?\\s?onsite).+', '')\n",
    "data['Notes_cleaned'] = data['Notes_cleaned'].str.replace(r'(((suggested)?\\s?(next\\s?(step(s)?)\\s?))).+', '')\n",
    "data['Notes_cleaned'] = data['Notes_cleaned'].str.replace(r'(((inst|instruction(s)?|comment(s)?)\\s?(to)?\\s?dsp)).+', '')\n",
    "data['Notes_cleaned'] = data['Notes_cleaned'].str.replace(r'(dsp\\s?(to)?\\s?onsite).+', '')\n",
    "\n",
    "####Merging both text notes fields\n",
    "data['Merged_Notes'] = data['Solution_Steps_cleaned'] + data['Notes_cleaned'] \n",
    "####Cleanup & notmalization of notes\n",
    "data['Merged_Notes'] = data['Merged_Notes'].str.replace('can t', 'cant')\n",
    "data['Merged_Notes'] = data['Merged_Notes'].str.replace('mise a jour', 'update')\n",
    "data['Merged_Notes'] = data['Merged_Notes'].str.replace('atualizada', 'update')\n",
    "data['Merged_Notes'] = data['Merged_Notes'].str.replace('atualizacao de', 'update')\n",
    "data['Merged_Notes'] = data['Merged_Notes'].str.replace('updated', 'update')\n",
    "data['Merged_Notes'] = data['Merged_Notes'].str.replace('updating', 'update')\n",
    "data['Merged_Notes'] = data['Merged_Notes'].str.replace('up to', 'upto')\n",
    "data['Merged_Notes'] = data['Merged_Notes'].str.replace('nao e possivel', 'is not possible')\n",
    "data['Merged_Notes'] = data['Merged_Notes'].str.replace('pas possible', 'not possible')\n",
    "data['Merged_Notes'] = data['Merged_Notes'].str.replace('flashing', 'flash')\n",
    "data['Merged_Notes'] = data['Merged_Notes'].str.replace('actualiz', 'update')\n",
    "data['Merged_Notes'] = data['Merged_Notes'].str.replace('n a', 'na')\n",
    "data['Merged_Notes'] = data['Merged_Notes'].str.replace('replaced','replace')\n",
    "data['Merged_Notes'] = data['Merged_Notes'].str.replace('replacement','replace')\n",
    "data['Merged_Notes'] = data['Merged_Notes'].str.replace('reseating','reset')\n",
    "data['Merged_Notes'] = data['Merged_Notes'].str.replace('redefinir','reset')\n",
    "data['Merged_Notes'] = data['Merged_Notes'].str.replace('reseated','reset')\n",
    "data['Merged_Notes'] = data['Merged_Notes'].str.replace('refixed','reset')\n",
    "data['Merged_Notes'] = data['Merged_Notes'].str.replace('refix','reset')\n",
    "data['Merged_Notes'] = data['Merged_Notes'].str.replace('reseat','reset')\n",
    "data['Merged_Notes'] = data['Merged_Notes'].str.replace('resetting','reset')\n",
    "data['Merged_Notes'] = data['Merged_Notes'].str.replace('parts','part')\n",
    "data['Merged_Notes'] = data['Merged_Notes'].str.replace('part to replace','')\n",
    "data['Merged_Notes'] = data['Merged_Notes'].str.replace('swapped','swap')\n",
    "data['Merged_Notes'] = data['Merged_Notes'].str.replace('diff ','different')\n",
    "data['Merged_Notes'] = data['Merged_Notes'].str.replace('swapping','swap')\n",
    "data['Merged_Notes'] = data['Merged_Notes'].str.replace('guided resolution recommends to replace','')\n",
    "data['Merged_Notes'] = data['Merged_Notes'].str.replace('recommends to replace the part','')\n",
    "data['Merged_Notes'] = data['Merged_Notes'].str.replace('need to replace','')\n",
    "data['Merged_Notes'] = data['Merged_Notes'].str.replace('dsp to replace','')\n",
    "data['Merged_Notes'] = data['Merged_Notes'].str.replace('defaults','default')\n",
    "data['Merged_Notes'] = data['Merged_Notes'].str.replace('installed','install')\n",
    "data['Merged_Notes'] = data['Merged_Notes'].str.replace('installing','install')\n",
    "data['Merged_Notes'] = data['Merged_Notes'].str.replace('installation','install')\n",
    "data['Merged_Notes'] = data['Merged_Notes'].str.replace('reinstalling','reinstall')\n",
    "data['Merged_Notes'] = data['Merged_Notes'].str.replace('tried','try')\n",
    "data['Merged_Notes'] = data['Merged_Notes'].str.replace('trying','try')\n",
    "data['Merged_Notes'] = data['Merged_Notes'].str.replace('solution replace','')\n",
    "data['Merged_Notes'] = data['Merged_Notes'].str.replace('autre','other')\n",
    "data['Merged_Notes'] = data['Merged_Notes'].str.replace('provato','tried')\n",
    "data['Merged_Notes'] = data['Merged_Notes'].str.replace('probó','tested')\n",
    "data['Merged_Notes'] = data['Merged_Notes'].str.replace('otros','other')\n",
    "data['Merged_Notes'] = data['Merged_Notes'].str.replace('outro','other') \n",
    "data['Merged_Notes'] = data['Merged_Notes'].str.replace('idem','same')\n",
    "data['Merged_Notes'] = data['Merged_Notes'].str.replace(r'\\bkg\\b','known good')\n",
    "data['Merged_Notes'] = data['Merged_Notes'].str.replace(r'\\bgk\\b','good known')\n",
    "data['Merged_Notes'] = data['Merged_Notes'].str.replace('goodknown','good known')\n",
    "data['Merged_Notes'] = data['Merged_Notes'].str.replace('knowngood','known good')\n",
    "data['Merged_Notes'] = data['Merged_Notes'].str.replace('tested','test')\n",
    "data['Merged_Notes'] = data['Merged_Notes'].str.replace('re install','reinstall')\n",
    "data['Merged_Notes'] = data['Merged_Notes'].str.replace('reinstalled','reinstall')\n",
    "data['Merged_Notes'] = data['Merged_Notes'].str.replace('drivers','driver')\n",
    "data['Merged_Notes'] = data['Merged_Notes'].str.replace('refreshing','refresh')\n",
    "data['Merged_Notes'] = data['Merged_Notes'].str.replace('removed','remove')\n",
    "data['Merged_Notes'] = data['Merged_Notes'].str.replace('disconnected','remove')\n",
    "data['Merged_Notes'] = data['Merged_Notes'].str.replace('uguale','same')\n",
    "data['Merged_Notes'] = data['Merged_Notes'].str.replace('failed','fail')\n",
    "data['Merged_Notes'] = data['Merged_Notes'].str.replace('can t','cannot')\n",
    "data['Merged_Notes'] = data['Merged_Notes'].str.replace(\"couldn't\",'cannot')\n",
    "data['Merged_Notes'] = data['Merged_Notes'].str.replace(r\"\\bwk(s)?\\b\",'system')\n",
    "data['Merged_Notes'] = data['Merged_Notes'].str.replace('teclado','keyboard') \n",
    "data['Merged_Notes'] = data['Merged_Notes'].str.replace('equipamento','equipment')\n",
    "data['Merged_Notes'] = data['Merged_Notes'].str.replace('diferentes','different')\n",
    "data['Merged_Notes'] = data['Merged_Notes'].str.replace('computadoras','computer')\n",
    "data['Merged_Notes'] = data['Merged_Notes'].str.replace(r'\\bext\\b','external', regex = True)\n",
    "data['Merged_Notes'] = data['Merged_Notes'].str.replace('alternate','other')"
   ]
  },
  {
   "cell_type": "code",
   "execution_count": 6,
   "metadata": {},
   "outputs": [],
   "source": [
    "data.to_csv('S:\\\\work\\\\Automation\\\\codes\\\\camera\\\\reinstall_update_camera_drivers.csv')"
   ]
  },
  {
   "cell_type": "code",
   "execution_count": 4,
   "metadata": {},
   "outputs": [],
   "source": [
    "#####Reinstall/Update Camera Drivers\n",
    "#### Clean up specific to ts \n",
    "data['Merged_Notes'] = data['Merged_Notes'].str.replace('\\bin\\b','',regex = True)\n",
    "data['Merged_Notes'] = data['Merged_Notes'].str.replace('cmra','camera')\n",
    "data['Merged_Notes'] = data['Merged_Notes'].str.replace('\\bcmr\\b','camera', regex = True)\n",
    "data['Merged_Notes'] = data['Merged_Notes'].str.replace('web cam','webcam')\n",
    "\n",
    "\n",
    "reinstall_update_camera_drivers = data['Merged_Notes'].str.extractall(r'((\\w+\\s){0,3}(webcam|camera)(\\s\\w+){0,4})')\n",
    "reinstall_update_camera_drivers = reinstall_update_camera_drivers.groupby(level=0)[0].apply(list)\n",
    "reinstall_update_camera_drivers = reinstall_update_camera_drivers.apply(','.join)\n",
    "\n",
    "idx_id = reinstall_update_camera_drivers.loc[(reinstall_update_camera_drivers.str.contains('update') & reinstall_update_camera_drivers.str.contains('driv'))| \n",
    "                                             (reinstall_update_camera_drivers.str.contains('latest') & reinstall_update_camera_drivers.str.contains('driv'))|\n",
    "                                             (reinstall_update_camera_drivers.str.contains('install') & reinstall_update_camera_drivers.str.contains('driv'))| \n",
    "                                             (reinstall_update_camera_drivers.str.contains('uninstall') & reinstall_update_camera_drivers.str.contains('driv'))|\n",
    "                                             (reinstall_update_camera_drivers.str.contains('reinstall') & reinstall_update_camera_drivers.str.contains('driv'))].index\n",
    "\n",
    "\n",
    "data['reinstall_update_camera_drivers'] = ''\n",
    "data.loc[idx_id,'reinstall_update_camera_drivers'] = 'Reinstall/Update Camera Drivers'"
   ]
  },
  {
   "cell_type": "code",
   "execution_count": 7,
   "metadata": {},
   "outputs": [
    {
     "data": {
      "text/plain": [
       "'iw x9 x3 camera x9 x3 10e x30,hw hw other camera description web cam not,test no physical webcam webcam enabled in bios,update no error webcam in in epsa update,scan specific device webcam option not showing in,support assist when camera application open showing windows,error camera blocked anti virus application,iw x9 x3 camera x9 x3 10e x30,hw hw other camera description web cam not,id no physical webcam webcam enabled in bios,update no error webcam in in epsa update,scan specific device webcam option not showing in,support assist when camera application open showing windows,error camera blocked anti virus application'"
      ]
     },
     "execution_count": 7,
     "metadata": {},
     "output_type": "execute_result"
    }
   ],
   "source": [
    "reinstall_update_camera_drivers[99993]"
   ]
  },
  {
   "cell_type": "code",
   "execution_count": null,
   "metadata": {},
   "outputs": [],
   "source": []
  },
  {
   "cell_type": "code",
   "execution_count": null,
   "metadata": {},
   "outputs": [],
   "source": []
  },
  {
   "cell_type": "code",
   "execution_count": null,
   "metadata": {},
   "outputs": [],
   "source": []
  },
  {
   "cell_type": "code",
   "execution_count": null,
   "metadata": {},
   "outputs": [],
   "source": []
  },
  {
   "cell_type": "code",
   "execution_count": null,
   "metadata": {},
   "outputs": [],
   "source": []
  },
  {
   "cell_type": "code",
   "execution_count": null,
   "metadata": {},
   "outputs": [],
   "source": []
  },
  {
   "cell_type": "code",
   "execution_count": null,
   "metadata": {},
   "outputs": [],
   "source": []
  },
  {
   "cell_type": "code",
   "execution_count": null,
   "metadata": {},
   "outputs": [],
   "source": []
  },
  {
   "cell_type": "code",
   "execution_count": null,
   "metadata": {},
   "outputs": [],
   "source": []
  },
  {
   "cell_type": "code",
   "execution_count": null,
   "metadata": {},
   "outputs": [],
   "source": []
  },
  {
   "cell_type": "code",
   "execution_count": null,
   "metadata": {},
   "outputs": [],
   "source": []
  },
  {
   "cell_type": "code",
   "execution_count": null,
   "metadata": {},
   "outputs": [],
   "source": []
  },
  {
   "cell_type": "code",
   "execution_count": null,
   "metadata": {},
   "outputs": [],
   "source": []
  },
  {
   "cell_type": "code",
   "execution_count": null,
   "metadata": {},
   "outputs": [],
   "source": []
  },
  {
   "cell_type": "code",
   "execution_count": null,
   "metadata": {},
   "outputs": [],
   "source": []
  }
 ],
 "metadata": {
  "kernelspec": {
   "display_name": "Python 3",
   "language": "python",
   "name": "python3"
  },
  "language_info": {
   "codemirror_mode": {
    "name": "ipython",
    "version": 3
   },
   "file_extension": ".py",
   "mimetype": "text/x-python",
   "name": "python",
   "nbconvert_exporter": "python",
   "pygments_lexer": "ipython3",
   "version": "3.6.8"
  }
 },
 "nbformat": 4,
 "nbformat_minor": 2
}
