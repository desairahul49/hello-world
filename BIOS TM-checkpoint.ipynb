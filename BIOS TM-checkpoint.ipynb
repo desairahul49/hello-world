{
 "cells": [
  {
   "cell_type": "code",
   "execution_count": 145,
   "metadata": {},
   "outputs": [],
   "source": [
    "import pandas as pd\n",
    "from nltk.corpus import stopwords\n",
    "import string\n",
    "stpword = stopwords.words('english') \n",
    "whitelist = ['not','no','up','to']\n",
    "stpword = list(set(stpword).difference(set(whitelist)))\n",
    "punct =dict.fromkeys(string.punctuation,' ')\n",
    "no_punct = str.maketrans(punct)\n",
    "import re\n",
    "raw_data = pd.read_excel('S:\\\\work\\\\Automation\\\\codes\\\\bios test data.xlsx')"
   ]
  },
  {
   "cell_type": "code",
   "execution_count": 146,
   "metadata": {},
   "outputs": [],
   "source": [
    "data = raw_data\n",
    "data.dropna(subset=['Notes','Solution_Steps'],how='all',inplace=True)\n",
    "data.drop_duplicates(subset = 'DPS_NUM',inplace=True)\n",
    "data.reset_index(inplace=True)\n",
    "data.drop('index',axis='columns',inplace=True)"
   ]
  },
  {
   "cell_type": "code",
   "execution_count": 147,
   "metadata": {},
   "outputs": [],
   "source": [
    "data['Notes_cleaned'] = data['Notes']\n",
    "data['Solution_Steps_cleaned'] = data['Solution_Steps']\n",
    "data['Notes_cleaned'].fillna('',inplace = True)\n",
    "data['Solution_Steps_cleaned'].fillna('',inplace = True)\n",
    "data['Notes_cleaned'] = data['Notes_cleaned'].str.lower()\n",
    "data['Solution_Steps_cleaned'] = data['Solution_Steps_cleaned'].str.lower()\n",
    "data['Notes_cleaned'] = data['Notes_cleaned'].apply(lambda x: [item for item in str(x).split() if item not in stpword])\n",
    "data['Solution_Steps_cleaned'] = data['Solution_Steps_cleaned'].apply(lambda x: [item for item in str(x).split() if item not in stpword])\n",
    "data['Solution_Steps_cleaned'] = data['Solution_Steps_cleaned'].apply(','.join)\n",
    "data['Notes_cleaned'] = data['Notes_cleaned'].apply(','.join)\n",
    "data['Solution_Steps_cleaned'] = data['Solution_Steps_cleaned'].str.replace(r'(ns:).+', '')\n",
    "data['Notes_cleaned'] = data['Notes_cleaned'].str.replace(r'(ns:).+', '')\n",
    "data['Solution_Steps_cleaned'] = data['Solution_Steps_cleaned'].str.translate(no_punct)\n",
    "data['Notes_cleaned'] = data['Notes_cleaned'].str.translate(no_punct)\n",
    "data['Solution_Steps_cleaned'] = data['Solution_Steps_cleaned'].str.replace(r'\\s{2,}', ' ',).str.strip()\n",
    "data['Notes_cleaned'] = data['Notes_cleaned'].str.replace(r'\\s{2,}', ' ',).str.strip()\n",
    "data['Solution_Steps_cleaned'] = data['Solution_Steps_cleaned'].str.replace('can t', 'cant')\n",
    "data['Solution_Steps_cleaned'] = data['Solution_Steps_cleaned'].str.replace('mise a jour', 'update')\n",
    "data['Solution_Steps_cleaned'] = data['Solution_Steps_cleaned'].str.replace('atualizada', 'update')\n",
    "data['Solution_Steps_cleaned'] = data['Solution_Steps_cleaned'].str.replace('atualizacao de', 'update')\n",
    "data['Solution_Steps_cleaned'] = data['Solution_Steps_cleaned'].str.replace('updated', 'update')\n",
    "data['Solution_Steps_cleaned'] = data['Solution_Steps_cleaned'].str.replace('updating', 'update')\n",
    "data['Solution_Steps_cleaned'] = data['Solution_Steps_cleaned'].str.replace('up to', 'upto')\n",
    "data['Solution_Steps_cleaned'] = data['Solution_Steps_cleaned'].str.replace('nao e possivel', 'is not possible')\n",
    "data['Solution_Steps_cleaned'] = data['Solution_Steps_cleaned'].str.replace('pas possible', 'not possible')\n",
    "data['Solution_Steps_cleaned'] = data['Solution_Steps_cleaned'].str.replace('flashing', 'flash')\n",
    "data['Solution_Steps_cleaned'] = data['Solution_Steps_cleaned'].str.replace(r'(((suggested)?\\s?(next\\s?step(s)?))).+', '')\n",
    "data['Solution_Steps_cleaned'] = data['Solution_Steps_cleaned'].str.replace(r'(((inst|instruction(s)?|comment(s)?)\\s?(to)?\\s?dsp)).+', '')\n",
    "data['Solution_Steps_cleaned'] = data['Solution_Steps_cleaned'].str.replace(r'(dsp\\s?(to)?\\s?onsite).+', '')\n",
    "data['Notes_cleaned'] = data['Notes_cleaned'].str.replace('can t', 'cant')\n",
    "data['Notes_cleaned'] = data['Notes_cleaned'].str.replace('mise a jour', 'update')\n",
    "data['Notes_cleaned'] = data['Notes_cleaned'].str.replace('atualizada', 'update')\n",
    "data['Notes_cleaned'] = data['Notes_cleaned'].str.replace('atualizacao de', 'update')\n",
    "data['Notes_cleaned'] = data['Notes_cleaned'].str.replace('updated', 'update')\n",
    "data['Notes_cleaned'] = data['Notes_cleaned'].str.replace('updating', 'update')\n",
    "data['Notes_cleaned'] = data['Notes_cleaned'].str.replace('up to', 'upto')\n",
    "data['Notes_cleaned'] = data['Notes_cleaned'].str.replace('flashing', 'flash')\n",
    "data['Notes_cleaned'] = data['Notes_cleaned'].str.replace('pas possible', 'not possible')\n",
    "data['Notes_cleaned'] = data['Notes_cleaned'].str.replace('nao e possivel', 'is not possible')\n",
    "data['Notes_cleaned'] = data['Notes_cleaned'].str.replace(r'(((suggested)?\\s?(next\\s?step(s)?))).+', '')\n",
    "data['Notes_cleaned'] = data['Notes_cleaned'].str.replace(r'(((inst|instruction(s)?|comment(s)?)\\s?(to)?\\s?dsp)).+', '')\n",
    "data['Notes_cleaned'] = data['Notes_cleaned'].str.replace(r'(dsp\\s?(to)?\\s?onsite).+', '')\n",
    "data['Solution_Steps_cleaned'] = data['Solution_Steps_cleaned'].str.replace(r'((next\\s?best\\s?)(action|recommendation)?).+', ' ',)\n",
    "data['Notes_cleaned'] = data['Notes_cleaned'].str.replace(r'((next\\s?best\\s?)(action|recommendation)?).+', ' ',)\n",
    "data['Solution_Steps_cleaned'] = data['Solution_Steps_cleaned'].str.replace('actualiz', 'update')\n",
    "data['Notes_cleaned'] = data['Notes_cleaned'].str.replace('actualiz', 'update')\n",
    "data['Solution_Steps_cleaned'] = data['Solution_Steps_cleaned'].str.replace('up to', 'upto')\n",
    "data['Notes_cleaned'] = data['Notes_cleaned'].str.replace('up to', 'upto')\n",
    "data['Solution_Steps_cleaned'] = data['Solution_Steps_cleaned'].str.replace('n a', 'na')\n",
    "data['Notes_cleaned'] = data['Notes_cleaned'].str.replace('n a', 'na')\n",
    "data['Solution_Steps_cleaned'] = data['Solution_Steps_cleaned'].str.replace('can t', 'cant')\n",
    "data['Notes_cleaned'] = data['Notes_cleaned'].str.replace('can t', 'cant')\n",
    "data['Merged_Notes'] = data['Solution_Steps_cleaned'] + data['Notes_cleaned'] "
   ]
  },
  {
   "cell_type": "code",
   "execution_count": 148,
   "metadata": {},
   "outputs": [],
   "source": [
    "bios_extract = data['Merged_Notes'].str.extractall(r'(([\\w]+\\s){0,3}bios(\\s[\\w]+){0,5})')\n",
    "bios_extract = bios_extract.groupby(level=0)[0].apply(list)\n",
    "bios_extract = bios_extract.apply(','.join)\n",
    "bios_extract = bios_extract.str.replace(r'((\\w+\\s?){3}unknown(\\s?\\w+){3})','')\n",
    "bios_extract = bios_extract.str.replace(r'((\\w+\\s?){3}not possible(\\s?\\w+){3})','')\n",
    "bios_extract = bios_extract.str.replace(r'((\\w+\\s?){3}(,)?unable(,)?(\\s?\\w+){3})','')\n",
    "bios_extract = bios_extract.str.replace(r'((\\w+\\s?){3}not applicable(\\s?\\w+){3})','')\n",
    "bios_extract = bios_extract.str.replace(r'((\\w+\\s?){3}not update(\\s?\\w+){3})','')\n",
    "bios_extract = bios_extract.str.replace(r'((\\w+\\s?){3}not update(\\s?\\w+){3})','')\n",
    "bios_extract = bios_extract.str.replace(r'(hd?d)','')"
   ]
  },
  {
   "cell_type": "code",
   "execution_count": 149,
   "metadata": {},
   "outputs": [
    {
     "name": "stderr",
     "output_type": "stream",
     "text": [
      "C:\\Users\\rahul.desai\\AppData\\Local\\Continuum\\anaconda3\\lib\\site-packages\\ipykernel_launcher.py:3: UserWarning: This pattern has match groups. To actually get the groups, use str.extract.\n",
      "  This is separate from the ipykernel package so we can avoid doing imports until\n"
     ]
    }
   ],
   "source": [
    "idx_id = bios_extract.loc[(bios_extract.str.contains('update')| bios_extract.str.contains('latest')| bios_extract.str.contains('current') | \n",
    "                          bios_extract.str.contains('upto date') | bios_extract.str.contains('reinstalled')| bios_extract.str.contains('flash')\n",
    "                          | bios_extract.str.contains('upgrade')| bios_extract.str.contains(r'(\\d\\s?)?bios(\\s?(a|(ver)?\\s?(sion)?)?\\s?(a)?\\s?\\d)?'))].index\n",
    "#idx_id2 = bios_extract.loc[idx_id].loc[(bios_extract.str.contains('not possible')| bios_extract.str.contains('unknown') | bios_extract.str.contains('unable')\n",
    "#                                       | bios_extract.str.contains(r'(hd?d)'))].index\n",
    "#idx_id = idx_id.drop(idx_id2)"
   ]
  },
  {
   "cell_type": "code",
   "execution_count": 150,
   "metadata": {},
   "outputs": [],
   "source": [
    "data.loc[idx_id, 'TS1'] = 'Updated/ Latest BIOS'"
   ]
  },
  {
   "cell_type": "code",
   "execution_count": 151,
   "metadata": {},
   "outputs": [],
   "source": [
    "data.to_csv('S:\\\\work\\\\Automation\\\\codes\\\\bios_output_v2.2.csv',index=False)"
   ]
  },
  {
   "cell_type": "code",
   "execution_count": 160,
   "metadata": {},
   "outputs": [
    {
     "data": {
      "text/html": [
       "<div>\n",
       "<style scoped>\n",
       "    .dataframe tbody tr th:only-of-type {\n",
       "        vertical-align: middle;\n",
       "    }\n",
       "\n",
       "    .dataframe tbody tr th {\n",
       "        vertical-align: top;\n",
       "    }\n",
       "\n",
       "    .dataframe thead th {\n",
       "        text-align: right;\n",
       "    }\n",
       "</style>\n",
       "<table border=\"1\" class=\"dataframe\">\n",
       "  <thead>\n",
       "    <tr style=\"text-align: right;\">\n",
       "      <th></th>\n",
       "      <th>DPS_NUM</th>\n",
       "      <th>COMMODITYDESC</th>\n",
       "      <th>combinets</th>\n",
       "      <th>Solution_Steps</th>\n",
       "      <th>Notes</th>\n",
       "      <th>Notes_cleaned</th>\n",
       "      <th>Solution_Steps_cleaned</th>\n",
       "      <th>Merged_Notes</th>\n",
       "      <th>TS1</th>\n",
       "    </tr>\n",
       "  </thead>\n",
       "  <tbody>\n",
       "    <tr>\n",
       "      <th>167</th>\n",
       "      <td>384110876</td>\n",
       "      <td>LCD Panel</td>\n",
       "      <td>NaN</td>\n",
       "      <td>* THIS IS A NEXT BUSINESS DAY SERVICE CASE *  ...</td>\n",
       "      <td>CUSTOMER STATED ISSUE- Lower section of screen...</td>\n",
       "      <td>customer stated issue lower section screen lin...</td>\n",
       "      <td>next business day service case chat session id...</td>\n",
       "      <td>next business day service case chat session id...</td>\n",
       "      <td>Updated/ Latest BIOS</td>\n",
       "    </tr>\n",
       "  </tbody>\n",
       "</table>\n",
       "</div>"
      ],
      "text/plain": [
       "       DPS_NUM COMMODITYDESC combinets  \\\n",
       "167  384110876     LCD Panel       NaN   \n",
       "\n",
       "                                        Solution_Steps  \\\n",
       "167  * THIS IS A NEXT BUSINESS DAY SERVICE CASE *  ...   \n",
       "\n",
       "                                                 Notes  \\\n",
       "167  CUSTOMER STATED ISSUE- Lower section of screen...   \n",
       "\n",
       "                                         Notes_cleaned  \\\n",
       "167  customer stated issue lower section screen lin...   \n",
       "\n",
       "                                Solution_Steps_cleaned  \\\n",
       "167  next business day service case chat session id...   \n",
       "\n",
       "                                          Merged_Notes                   TS1  \n",
       "167  next business day service case chat session id...  Updated/ Latest BIOS  "
      ]
     },
     "execution_count": 160,
     "metadata": {},
     "output_type": "execute_result"
    }
   ],
   "source": [
    "data[data['DPS_NUM'] == 384110876]"
   ]
  },
  {
   "cell_type": "code",
   "execution_count": 162,
   "metadata": {},
   "outputs": [
    {
     "data": {
      "text/plain": [
       "'no issue resolved ,bios lcd bist result issue present,solve issue no bios version end timestamp thu feb,unable to update bios af suggested to replace lcd,unable to update bios af suggested to replace lcd'"
      ]
     },
     "execution_count": 162,
     "metadata": {},
     "output_type": "execute_result"
    }
   ],
   "source": [
    "bios_extract[167].replace(r'((\\w+\\s?){3}unable(\\s?\\w+){3})','')"
   ]
  },
  {
   "cell_type": "code",
   "execution_count": null,
   "metadata": {},
   "outputs": [],
   "source": []
  },
  {
   "cell_type": "code",
   "execution_count": null,
   "metadata": {},
   "outputs": [],
   "source": []
  },
  {
   "cell_type": "code",
   "execution_count": null,
   "metadata": {},
   "outputs": [],
   "source": []
  },
  {
   "cell_type": "code",
   "execution_count": null,
   "metadata": {},
   "outputs": [],
   "source": []
  },
  {
   "cell_type": "code",
   "execution_count": null,
   "metadata": {},
   "outputs": [],
   "source": []
  }
 ],
 "metadata": {
  "kernelspec": {
   "display_name": "Python 3",
   "language": "python",
   "name": "python3"
  },
  "language_info": {
   "codemirror_mode": {
    "name": "ipython",
    "version": 3
   },
   "file_extension": ".py",
   "mimetype": "text/x-python",
   "name": "python",
   "nbconvert_exporter": "python",
   "pygments_lexer": "ipython3",
   "version": "3.6.8"
  }
 },
 "nbformat": 4,
 "nbformat_minor": 2
}
