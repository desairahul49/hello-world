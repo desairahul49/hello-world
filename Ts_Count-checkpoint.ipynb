{
 "cells": [
  {
   "cell_type": "code",
   "execution_count": 1,
   "metadata": {},
   "outputs": [],
   "source": [
    "import pandas as pd"
   ]
  },
  {
   "cell_type": "code",
   "execution_count": 2,
   "metadata": {},
   "outputs": [],
   "source": [
    "data = pd.read_excel('S:\\work\\python files\\practice\\Office\\\\ML_Output_Processed.xlsx')"
   ]
  },
  {
   "cell_type": "code",
   "execution_count": 15,
   "metadata": {},
   "outputs": [],
   "source": [
    "extract = data.iloc[:,3:22]"
   ]
  },
  {
   "cell_type": "code",
   "execution_count": 18,
   "metadata": {
    "scrolled": true
   },
   "outputs": [
    {
     "data": {
      "text/plain": [
       "drain flea power                                                14532\n",
       "verify/swap with known good fpd                                  8235\n",
       "reseat cable or test with kg cable                               7507\n",
       "verify/swap with known good adapter                              7061\n",
       "remove/reseat/verify with known good memory                      6750\n",
       "uninstall/reinstall firmware/drivers                             6017\n",
       "disconnect all external peripherals                              5874\n",
       "remove/reseat/verify with known good hdd and / or hdd cables     4987\n",
       "swap with kg external device or expansion card                   4024\n",
       "remove/reseat/verify with kg internal components                 3759\n",
       "verify/swap with known good motherboard                          3389\n",
       "remove/reseat portable battery                                   3360\n",
       "lcd movement test reproduce an possible lvds cable issue         3174\n",
       "perform osri                                                     2995\n",
       "test with kg power outlet                                        2983\n",
       "remove/reseat adapter                                            2979\n",
       "test only with battery or ac adapter                             2969\n",
       "strip minimum to post                                            2903\n",
       "remove/reseat/verify cmos battery                                2828\n",
       "update firmware/drivers                                          2575\n",
       "verify/swap with known good battery                              2171\n",
       "swap to kg port                                                  1953\n",
       "check ports and cables for damage                                1904\n",
       "updated/ latest bios                                             1752\n",
       "verify/test hdd with kg system                                   1372\n",
       "test windows in safe mode                                        1368\n",
       "check for damaged lcd panel                                      1264\n",
       "perform single module test in each slot                          1225\n",
       "verify/swap with known good psu                                  1088\n",
       "verify/test adapter with kg system                               1053\n",
       "verify/swap with known good lcd                                   988\n",
       "confirm bad video in bios screen                                  884\n",
       "remove/reseat dock station                                        872\n",
       "verify/test battery with kg system                                706\n",
       "nic verified link light connection                                644\n",
       "verify/test memory with kg system                                 642\n",
       "check device manager                                              602\n",
       "clean the vent (check for dust/debris clean if exist)             558\n",
       "remove/reseat/verify with known good processor                    527\n",
       "perform isolated psu bist                                         522\n",
       "verify/test fpd with kg system                                    477\n",
       "check the event log                                               474\n",
       "nic swap with known good cable                                    399\n",
       "remove/reseat/verify with known good graphic card                 385\n",
       "remove io cable                                                   291\n",
       "reset monitor to factory defaults                                 288\n",
       "unable to reseat/swap the commodity                               255\n",
       "check for bent or broken pins                                     164\n",
       "change the sata operation mode                                    132\n",
       "check for bright or dark pixels                                   129\n",
       "verify/test psu with kg system                                    103\n",
       "test with internal graphic card                                   100\n",
       "change bios settings                                               67\n",
       "clear nvram / reseat jumper                                        67\n",
       "verify/test graphic card with kg system                            31\n",
       "dtype: int64"
      ]
     },
     "execution_count": 18,
     "metadata": {},
     "output_type": "execute_result"
    }
   ],
   "source": [
    "extract.stack().value_counts()"
   ]
  },
  {
   "cell_type": "code",
   "execution_count": null,
   "metadata": {},
   "outputs": [],
   "source": []
  },
  {
   "cell_type": "code",
   "execution_count": null,
   "metadata": {},
   "outputs": [],
   "source": []
  },
  {
   "cell_type": "code",
   "execution_count": null,
   "metadata": {},
   "outputs": [],
   "source": []
  },
  {
   "cell_type": "code",
   "execution_count": null,
   "metadata": {},
   "outputs": [],
   "source": []
  },
  {
   "cell_type": "code",
   "execution_count": null,
   "metadata": {},
   "outputs": [],
   "source": []
  },
  {
   "cell_type": "code",
   "execution_count": null,
   "metadata": {},
   "outputs": [],
   "source": []
  },
  {
   "cell_type": "code",
   "execution_count": null,
   "metadata": {},
   "outputs": [],
   "source": []
  },
  {
   "cell_type": "code",
   "execution_count": null,
   "metadata": {},
   "outputs": [],
   "source": []
  },
  {
   "cell_type": "code",
   "execution_count": null,
   "metadata": {},
   "outputs": [],
   "source": []
  },
  {
   "cell_type": "code",
   "execution_count": null,
   "metadata": {},
   "outputs": [],
   "source": []
  },
  {
   "cell_type": "code",
   "execution_count": null,
   "metadata": {},
   "outputs": [],
   "source": []
  }
 ],
 "metadata": {
  "kernelspec": {
   "display_name": "Python 3",
   "language": "python",
   "name": "python3"
  },
  "language_info": {
   "codemirror_mode": {
    "name": "ipython",
    "version": 3
   },
   "file_extension": ".py",
   "mimetype": "text/x-python",
   "name": "python",
   "nbconvert_exporter": "python",
   "pygments_lexer": "ipython3",
   "version": "3.6.8"
  }
 },
 "nbformat": 4,
 "nbformat_minor": 2
}
