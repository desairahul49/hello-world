{
 "cells": [
  {
   "cell_type": "code",
   "execution_count": 1,
   "metadata": {},
   "outputs": [],
   "source": [
    "import pandas as pd\n",
    "import pyodbc\n",
    "server = 'uat01'\n",
    "db = 'test'\n",
    "connection = pyodbc.connect('DRIVER={SQL Server};SERVER=' + server + ';DATABASE=' + db +';Uid=uat01_read;Pwd=password@123')"
   ]
  },
  {
   "cell_type": "code",
   "execution_count": 2,
   "metadata": {},
   "outputs": [],
   "source": [
    "query = \"select distinct a.FWEEK,a.DPS_NUM,a.COMMODITYDESC,a.[SYSTEM_ORIGINAL_REGION],a.[TROUBLESHOOTING_PERFORMED1],a.[TROUBLESHOOTING_PERFORMED2],\\\n",
    "a.[TROUBLESHOOTING_PERFORMED3],a.[TROUBLESHOOTING_PERFORMED4],a.[TROUBLESHOOTING_PERFORMED5],a.[TROUBLESHOOTING_PERFORMED6],\\\n",
    "a.[TROUBLESHOOTING_PERFORMED7],a.[TROUBLESHOOTING_PERFORMED8],a.[TROUBLESHOOTING_PERFORMED9],\\\n",
    "a.[TROUBLESHOOTING_PERFORMED10],a.[TROUBLESHOOTING_PERFORMED11],a.[TROUBLESHOOTING_PERFORMED12],\\\n",
    "a.[TROUBLESHOOTING_PERFORMED13],a.[TROUBLESHOOTING_PERFORMED14],a.[TROUBLESHOOTING_PERFORMED15],\\\n",
    "b.[Agent_Description],b.[Notes],b.[Solution_Steps]\\\n",
    "from [SOE_DISPATCH_COMPLIANCE].dbo.dc_master_automated_data a \\\n",
    "join SOE_DC_ML_8K.dbo.RAWDATA_DC_CONSOLIDATED b \\\n",
    "on a.DPS_NUM = b.DPS_NUM collate Latin1_General_100_CI_AS_KS where a.FWEEK ='202001' and a.DOSD_FLG = '1' and a.system_original_subregion not in ('Japan / Korea','China/HongKong/Taiwan')\""
   ]
  },
  {
   "cell_type": "code",
   "execution_count": 3,
   "metadata": {},
   "outputs": [],
   "source": [
    "data = pd.read_sql_query(query,connection)"
   ]
  },
  {
   "cell_type": "code",
   "execution_count": 4,
   "metadata": {},
   "outputs": [],
   "source": [
    "mod_df = data.drop(columns=['Agent_Description','Notes','Solution_Steps']).copy()"
   ]
  },
  {
   "cell_type": "code",
   "execution_count": 7,
   "metadata": {},
   "outputs": [],
   "source": [
    "processed_df = mod_df.melt(id_vars=mod_df.columns[:4],value_vars=mod_df.columns[4:]).groupby(['SYSTEM_ORIGINAL_REGION'])['COMMODITYDESC'].value_counts()"
   ]
  },
  {
   "cell_type": "code",
   "execution_count": null,
   "metadata": {},
   "outputs": [],
   "source": [
    "processed_df.to_csv('S:\\\\work\\\\Automation\\\\DTD\\TS_Count_grouped2.csv')"
   ]
  },
  {
   "cell_type": "code",
   "execution_count": null,
   "metadata": {},
   "outputs": [],
   "source": [
    "mod_df.groupby('SYSTEM_ORIGINAL_REGION')['COMMODITYDESC'].value_counts().to_clipboard(header = True)"
   ]
  },
  {
   "cell_type": "code",
   "execution_count": 10,
   "metadata": {},
   "outputs": [],
   "source": [
    "mod_df.groupby(['SYSTEM_ORIGINAL_REGION'])['COMMODITYDESC'].value_counts().to_clipboard(header = True)"
   ]
  },
  {
   "cell_type": "code",
   "execution_count": null,
   "metadata": {},
   "outputs": [],
   "source": []
  },
  {
   "cell_type": "code",
   "execution_count": null,
   "metadata": {},
   "outputs": [],
   "source": []
  },
  {
   "cell_type": "code",
   "execution_count": null,
   "metadata": {},
   "outputs": [],
   "source": []
  },
  {
   "cell_type": "code",
   "execution_count": null,
   "metadata": {},
   "outputs": [],
   "source": []
  },
  {
   "cell_type": "code",
   "execution_count": null,
   "metadata": {},
   "outputs": [],
   "source": []
  },
  {
   "cell_type": "code",
   "execution_count": null,
   "metadata": {},
   "outputs": [],
   "source": []
  },
  {
   "cell_type": "code",
   "execution_count": null,
   "metadata": {},
   "outputs": [],
   "source": []
  },
  {
   "cell_type": "code",
   "execution_count": null,
   "metadata": {},
   "outputs": [],
   "source": []
  },
  {
   "cell_type": "code",
   "execution_count": null,
   "metadata": {},
   "outputs": [],
   "source": []
  },
  {
   "cell_type": "code",
   "execution_count": null,
   "metadata": {},
   "outputs": [],
   "source": []
  },
  {
   "cell_type": "code",
   "execution_count": null,
   "metadata": {},
   "outputs": [],
   "source": []
  },
  {
   "cell_type": "code",
   "execution_count": null,
   "metadata": {},
   "outputs": [],
   "source": []
  },
  {
   "cell_type": "code",
   "execution_count": null,
   "metadata": {},
   "outputs": [],
   "source": []
  }
 ],
 "metadata": {
  "kernelspec": {
   "display_name": "Python 3",
   "language": "python",
   "name": "python3"
  },
  "language_info": {
   "codemirror_mode": {
    "name": "ipython",
    "version": 3
   },
   "file_extension": ".py",
   "mimetype": "text/x-python",
   "name": "python",
   "nbconvert_exporter": "python",
   "pygments_lexer": "ipython3",
   "version": "3.6.8"
  }
 },
 "nbformat": 4,
 "nbformat_minor": 2
}
